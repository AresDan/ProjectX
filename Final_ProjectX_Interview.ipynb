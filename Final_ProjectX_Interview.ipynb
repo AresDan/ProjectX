{
  "cells": [
    {
      "cell_type": "markdown",
      "metadata": {
        "id": "view-in-github",
        "colab_type": "text"
      },
      "source": [
        "<a href=\"https://colab.research.google.com/github/AresDan/ProjectX/blob/main/Final_ProjectX_Interview.ipynb\" target=\"_parent\"><img src=\"https://colab.research.google.com/assets/colab-badge.svg\" alt=\"Open In Colab\"/></a>"
      ]
    },
    {
      "cell_type": "markdown",
      "metadata": {
        "id": "nXdQpnjhavSJ"
      },
      "source": [
        "# Technical task"
      ]
    },
    {
      "cell_type": "markdown",
      "metadata": {
        "id": "4diTq6Ytc7gy"
      },
      "source": [
        "## Libraries"
      ]
    },
    {
      "cell_type": "code",
      "execution_count": 3,
      "metadata": {
        "colab": {
          "base_uri": "https://localhost:8080/"
        },
        "id": "KonUtFdrDl7g",
        "outputId": "f7927be7-efe7-42cb-ca97-d37ec274434c"
      },
      "outputs": [
        {
          "output_type": "stream",
          "name": "stdout",
          "text": [
            "Looking in indexes: https://pypi.org/simple, https://us-python.pkg.dev/colab-wheels/public/simple/\n",
            "Collecting transformers\n",
            "  Downloading transformers-4.25.1-py3-none-any.whl (5.8 MB)\n",
            "\u001b[2K     \u001b[90m━━━━━━━━━━━━━━━━━━━━━━━━━━━━━━━━━━━━━━━━\u001b[0m \u001b[32m5.8/5.8 MB\u001b[0m \u001b[31m48.6 MB/s\u001b[0m eta \u001b[36m0:00:00\u001b[0m\n",
            "\u001b[?25hCollecting tokenizers!=0.11.3,<0.14,>=0.11.1\n",
            "  Downloading tokenizers-0.13.2-cp38-cp38-manylinux_2_17_x86_64.manylinux2014_x86_64.whl (7.6 MB)\n",
            "\u001b[2K     \u001b[90m━━━━━━━━━━━━━━━━━━━━━━━━━━━━━━━━━━━━━━━━\u001b[0m \u001b[32m7.6/7.6 MB\u001b[0m \u001b[31m90.0 MB/s\u001b[0m eta \u001b[36m0:00:00\u001b[0m\n",
            "\u001b[?25hRequirement already satisfied: filelock in /usr/local/lib/python3.8/dist-packages (from transformers) (3.9.0)\n",
            "Requirement already satisfied: requests in /usr/local/lib/python3.8/dist-packages (from transformers) (2.25.1)\n",
            "Requirement already satisfied: tqdm>=4.27 in /usr/local/lib/python3.8/dist-packages (from transformers) (4.64.1)\n",
            "Requirement already satisfied: packaging>=20.0 in /usr/local/lib/python3.8/dist-packages (from transformers) (21.3)\n",
            "Collecting huggingface-hub<1.0,>=0.10.0\n",
            "  Downloading huggingface_hub-0.11.1-py3-none-any.whl (182 kB)\n",
            "\u001b[2K     \u001b[90m━━━━━━━━━━━━━━━━━━━━━━━━━━━━━━━━━━━━━━\u001b[0m \u001b[32m182.4/182.4 KB\u001b[0m \u001b[31m19.5 MB/s\u001b[0m eta \u001b[36m0:00:00\u001b[0m\n",
            "\u001b[?25hRequirement already satisfied: numpy>=1.17 in /usr/local/lib/python3.8/dist-packages (from transformers) (1.21.6)\n",
            "Requirement already satisfied: regex!=2019.12.17 in /usr/local/lib/python3.8/dist-packages (from transformers) (2022.6.2)\n",
            "Requirement already satisfied: pyyaml>=5.1 in /usr/local/lib/python3.8/dist-packages (from transformers) (6.0)\n",
            "Requirement already satisfied: typing-extensions>=3.7.4.3 in /usr/local/lib/python3.8/dist-packages (from huggingface-hub<1.0,>=0.10.0->transformers) (4.4.0)\n",
            "Requirement already satisfied: pyparsing!=3.0.5,>=2.0.2 in /usr/local/lib/python3.8/dist-packages (from packaging>=20.0->transformers) (3.0.9)\n",
            "Requirement already satisfied: chardet<5,>=3.0.2 in /usr/local/lib/python3.8/dist-packages (from requests->transformers) (4.0.0)\n",
            "Requirement already satisfied: urllib3<1.27,>=1.21.1 in /usr/local/lib/python3.8/dist-packages (from requests->transformers) (1.24.3)\n",
            "Requirement already satisfied: idna<3,>=2.5 in /usr/local/lib/python3.8/dist-packages (from requests->transformers) (2.10)\n",
            "Requirement already satisfied: certifi>=2017.4.17 in /usr/local/lib/python3.8/dist-packages (from requests->transformers) (2022.12.7)\n",
            "Installing collected packages: tokenizers, huggingface-hub, transformers\n",
            "Successfully installed huggingface-hub-0.11.1 tokenizers-0.13.2 transformers-4.25.1\n"
          ]
        }
      ],
      "source": [
        "!pip install transformers"
      ]
    },
    {
      "cell_type": "code",
      "execution_count": 4,
      "metadata": {
        "id": "8siISYZbc7GN"
      },
      "outputs": [],
      "source": [
        "import nltk\n",
        "import pandas as pd\n",
        "import string\n",
        "import matplotlib.pyplot as plt\n",
        "import seaborn as sns\n",
        "import re\n",
        "import numpy as np\n",
        "from sklearn.model_selection import train_test_split\n",
        "from sklearn.utils import shuffle\n",
        "from sklearn import metrics\n",
        "from sklearn.metrics import multilabel_confusion_matrix as mcm, classification_report\n",
        "from nltk.corpus import stopwords\n",
        "import sys\n",
        "\n",
        "from transformers import BertTokenizer, BertModel\n",
        "import torch\n",
        "from torch.utils.data import Dataset, DataLoader\n"
      ]
    },
    {
      "cell_type": "code",
      "execution_count": null,
      "metadata": {
        "colab": {
          "base_uri": "https://localhost:8080/"
        },
        "id": "gICY3xNj0LBM",
        "outputId": "c887b4d4-30f8-46be-a4b6-3fa725d7a79e"
      },
      "outputs": [
        {
          "name": "stderr",
          "output_type": "stream",
          "text": [
            "[nltk_data] Downloading package punkt to C:\\Users\\Danila-\n",
            "[nltk_data]     ADM\\AppData\\Roaming\\nltk_data...\n",
            "[nltk_data]   Package punkt is already up-to-date!\n",
            "[nltk_data] Downloading package wordnet to C:\\Users\\Danila-\n",
            "[nltk_data]     ADM\\AppData\\Roaming\\nltk_data...\n",
            "[nltk_data]   Package wordnet is already up-to-date!\n",
            "[nltk_data] Downloading package omw-1.4 to C:\\Users\\Danila-\n",
            "[nltk_data]     ADM\\AppData\\Roaming\\nltk_data...\n",
            "[nltk_data]   Package omw-1.4 is already up-to-date!\n",
            "[nltk_data] Downloading package stopwords to C:\\Users\\Danila-\n",
            "[nltk_data]     ADM\\AppData\\Roaming\\nltk_data...\n",
            "[nltk_data]   Package stopwords is already up-to-date!\n"
          ]
        },
        {
          "data": {
            "text/plain": [
              "True"
            ]
          },
          "execution_count": 2,
          "metadata": {},
          "output_type": "execute_result"
        }
      ],
      "source": [
        "nltk.download('punkt')\n",
        "nltk.download('wordnet')\n",
        "nltk.download('omw-1.4')\n",
        "nltk.download('stopwords')"
      ]
    },
    {
      "cell_type": "markdown",
      "metadata": {
        "id": "0r9BiFMAf2a3"
      },
      "source": [
        "## Predefined variables"
      ]
    },
    {
      "cell_type": "code",
      "execution_count": null,
      "metadata": {
        "colab": {
          "base_uri": "https://localhost:8080/",
          "height": 130,
          "referenced_widgets": [
            "e53a82039b95407b931838134eb44f45",
            "f7e5a08c412548e8b0f755889ba60706",
            "c1ddfa8ddee04df288c7784dc4b0316e",
            "eab466e62bef4f1cafcbef7bfc8d0fac",
            "d00b7b7d018f47059a2bd69ae2a44b21",
            "92a8b9d3e839403fb3f13e5021aab9c5",
            "8443a01ec3114140a3ca9587796db9a8",
            "0fa69d6fb3a24abe8d262419cb8d9317",
            "382601e0b996417789c4f9281c03fb9c",
            "04d6e027dd4a4f38868f926fbbbfd9f1",
            "368c65e0614f42b1801155080e9496ff",
            "5044da2b8e7c4e089c2c53d57e830447",
            "f0920231ec4f43cfa4c1d998ca5e6ed8",
            "4e5d5de497764f5c828f60c5c184fcb8",
            "e9b7efc16f4a4dea99a4b9f3a2e01d2b",
            "02fdb1ea9516476dab643c05d3aec9cf",
            "50454484de234ca58a958c8aa78d7232",
            "3a654f53323a44d384e6727e5488143f",
            "3b64a97a15744398881efc369a88c2aa",
            "87645c30534040aabb7a402a9199a95d",
            "1082e11eb2eb4f8ebe54c3ffffbe45d6",
            "2b4a9b21c16243a9b81b1a743524b160",
            "f7b8032da25943468fa9b7a174abdd38",
            "926babd2318a46e48eb87bfab4634e1e",
            "4d45056a99cf437c9d36b336998d1247",
            "469d4aa85c404e5e87aa0a449bc19ea7",
            "e3159b4e958f4b6e8b563e0c1e90738d",
            "1400f13540154d468abe515c05dd064f",
            "7ceccf7587724fb783bcbf40243193b6",
            "80fd612cada946cdb67b993065a53b22",
            "67c201aa84a3482abe601c528a3454a3",
            "4d7c730dfea84ce5a966a8f63a13dcc1",
            "b02407d9d7ff445998d82447ceece7c0"
          ]
        },
        "id": "OIjwcTiBf4Mo",
        "outputId": "8f9aca18-c30e-477a-d0ce-0e7184e964cc"
      },
      "outputs": [
        {
          "name": "stdout",
          "output_type": "stream",
          "text": [
            "cuda\n"
          ]
        }
      ],
      "source": [
        "COMMENT_TEXT = 'comment_text'\n",
        "TARGET_CLASSES = 'target_classes'\n",
        "SPLIT_SIZE = 0.1\n",
        "MAX_LENGTH = 100\n",
        "BATCH_SIZE = 32\n",
        "EPOCH = 5\n",
        "checkpoint_path = './checkpoint/current_checkpoint.pt'\n",
        "\n",
        "lr = 1e-05\n",
        "tokenizer = BertTokenizer.from_pretrained('bert-base-uncased')\n",
        "\n",
        "if torch.cuda.is_available():    \n",
        "    device = torch.device(\"cuda\")\n",
        "else:\n",
        "    device = torch.device(\"cpu\")\n",
        "\n",
        "print(device)"
      ]
    },
    {
      "cell_type": "markdown",
      "metadata": {
        "id": "UeXAVA4Mcnep"
      },
      "source": [
        "## Loading the dataset"
      ]
    },
    {
      "cell_type": "markdown",
      "metadata": {
        "id": "oiH-g-cdcQPR"
      },
      "source": [
        "Mount my Gdrive for the dataset and to save/load models"
      ]
    },
    {
      "cell_type": "code",
      "source": [
        "# Load the Drive helper and mount\n",
        "from google.colab import drive\n",
        "\n",
        "# This will prompt for authorization.\n",
        "drive.mount('/content/drive')\n",
        "\n",
        "# Change the folder where the dataset is located\n",
        "%cd ./drive/'My Drive'/ProjectX/\n",
        "\n",
        "dataset = pd.read_excel('./toxic_comment_dataset.xlsx')"
      ],
      "metadata": {
        "id": "G2NiHUDkX6SH"
      },
      "execution_count": null,
      "outputs": []
    },
    {
      "cell_type": "code",
      "execution_count": null,
      "metadata": {
        "id": "1NAxSvnkS8n9"
      },
      "outputs": [],
      "source": [
        "dataset = pd.read_excel('./toxic_comment_dataset.xlsx')"
      ]
    },
    {
      "cell_type": "markdown",
      "metadata": {
        "id": "mSWyf3GAdirX"
      },
      "source": [
        "## Dataset preprocessing\n",
        "\n",
        "There is only one column ('comment_text') that contains text, which is used for classification."
      ]
    },
    {
      "cell_type": "code",
      "execution_count": null,
      "metadata": {
        "colab": {
          "base_uri": "https://localhost:8080/",
          "height": 206
        },
        "id": "KUnAwK9_dKp5",
        "outputId": "d6602c07-dd34-4aa6-9f16-c3f758edf693"
      },
      "outputs": [
        {
          "data": {
            "text/html": [
              "<div>\n",
              "<style scoped>\n",
              "    .dataframe tbody tr th:only-of-type {\n",
              "        vertical-align: middle;\n",
              "    }\n",
              "\n",
              "    .dataframe tbody tr th {\n",
              "        vertical-align: top;\n",
              "    }\n",
              "\n",
              "    .dataframe thead th {\n",
              "        text-align: right;\n",
              "    }\n",
              "</style>\n",
              "<table border=\"1\" class=\"dataframe\">\n",
              "  <thead>\n",
              "    <tr style=\"text-align: right;\">\n",
              "      <th></th>\n",
              "      <th>id</th>\n",
              "      <th>comment_text</th>\n",
              "      <th>toxic</th>\n",
              "      <th>severe_toxic</th>\n",
              "      <th>obscene</th>\n",
              "      <th>threat</th>\n",
              "      <th>insult</th>\n",
              "      <th>identity_hate</th>\n",
              "    </tr>\n",
              "  </thead>\n",
              "  <tbody>\n",
              "    <tr>\n",
              "      <th>0</th>\n",
              "      <td>0000997932d777bf</td>\n",
              "      <td>Explanation\\nWhy the edits made under my usern...</td>\n",
              "      <td>0</td>\n",
              "      <td>0</td>\n",
              "      <td>0</td>\n",
              "      <td>0</td>\n",
              "      <td>0</td>\n",
              "      <td>0</td>\n",
              "    </tr>\n",
              "    <tr>\n",
              "      <th>1</th>\n",
              "      <td>000103f0d9cfb60f</td>\n",
              "      <td>D'aww! He matches this background colour I'm s...</td>\n",
              "      <td>0</td>\n",
              "      <td>0</td>\n",
              "      <td>0</td>\n",
              "      <td>0</td>\n",
              "      <td>0</td>\n",
              "      <td>0</td>\n",
              "    </tr>\n",
              "    <tr>\n",
              "      <th>2</th>\n",
              "      <td>000113f07ec002fd</td>\n",
              "      <td>Hey man, I'm really not trying to edit war. It...</td>\n",
              "      <td>0</td>\n",
              "      <td>0</td>\n",
              "      <td>0</td>\n",
              "      <td>0</td>\n",
              "      <td>0</td>\n",
              "      <td>0</td>\n",
              "    </tr>\n",
              "    <tr>\n",
              "      <th>3</th>\n",
              "      <td>0001b41b1c6bb37e</td>\n",
              "      <td>\"\\nMore\\nI can't make any real suggestions on ...</td>\n",
              "      <td>0</td>\n",
              "      <td>0</td>\n",
              "      <td>0</td>\n",
              "      <td>0</td>\n",
              "      <td>0</td>\n",
              "      <td>0</td>\n",
              "    </tr>\n",
              "    <tr>\n",
              "      <th>4</th>\n",
              "      <td>0001d958c54c6e35</td>\n",
              "      <td>You, sir, are my hero. Any chance you remember...</td>\n",
              "      <td>0</td>\n",
              "      <td>0</td>\n",
              "      <td>0</td>\n",
              "      <td>0</td>\n",
              "      <td>0</td>\n",
              "      <td>0</td>\n",
              "    </tr>\n",
              "  </tbody>\n",
              "</table>\n",
              "</div>"
            ],
            "text/plain": [
              "                 id                                       comment_text  toxic  \\\n",
              "0  0000997932d777bf  Explanation\\nWhy the edits made under my usern...      0   \n",
              "1  000103f0d9cfb60f  D'aww! He matches this background colour I'm s...      0   \n",
              "2  000113f07ec002fd  Hey man, I'm really not trying to edit war. It...      0   \n",
              "3  0001b41b1c6bb37e  \"\\nMore\\nI can't make any real suggestions on ...      0   \n",
              "4  0001d958c54c6e35  You, sir, are my hero. Any chance you remember...      0   \n",
              "\n",
              "   severe_toxic  obscene  threat  insult  identity_hate  \n",
              "0             0        0       0       0              0  \n",
              "1             0        0       0       0              0  \n",
              "2             0        0       0       0              0  \n",
              "3             0        0       0       0              0  \n",
              "4             0        0       0       0              0  "
            ]
          },
          "execution_count": 5,
          "metadata": {},
          "output_type": "execute_result"
        }
      ],
      "source": [
        "dataset.head()"
      ]
    },
    {
      "cell_type": "code",
      "execution_count": null,
      "metadata": {
        "id": "7mNOMNhHg3GK"
      },
      "outputs": [],
      "source": [
        "import copy\n",
        "tmp = copy.deepcopy(dataset)"
      ]
    },
    {
      "cell_type": "markdown",
      "metadata": {
        "id": "HdrbYvrzejwz"
      },
      "source": [
        "Remove punctuation, stop words and use some other preprocessing techniques. The regex with a sepcified pattern (taken from [NLTK Book](https://www.nltk.org/book/ch03.html#nltk-s-regular-expression-tokenizer)) is used to be able to remove punctuation and not a part of a word."
      ]
    },
    {
      "cell_type": "code",
      "execution_count": null,
      "metadata": {
        "id": "zbxa5VzxdfK2"
      },
      "outputs": [],
      "source": [
        "pattern = r'''(?x)     # set flag to allow verbose regexps\n",
        "    (?:[A-Z]\\.)+       # abbreviations, e.g. U.S.A.\n",
        "    |(?:[u.s.]\\.)+       # abbreviations, e.g. u.s.\n",
        "    | \\w+(?:-\\w+)*       # words with optional internal hyphens\n",
        "    | \\$?\\d+(?:\\.\\d+)?%? # currency and percentages, e.g. $12.40, 82%\n",
        "    | \\.\\.\\.             # ellipsis\n",
        "    | \\!\n",
        "    | \\?\n",
        "    | [][.,;\"'?():-_`]   # these are separate tokens; includes ], [\n",
        "    '''\n",
        "cachedStopWords = stopwords.words(\"english\")\n",
        "\n",
        "def process_sentence(sentence):\n",
        "    # return none if it is not a string. Later we will remove all nones\n",
        "    if not isinstance(sentence, str):\n",
        "        return None\n",
        "\n",
        "    # lowercase\n",
        "    sentence = sentence.lower()\n",
        "    # strip\n",
        "    sentence = sentence.strip()\n",
        "    # remove numbers\n",
        "    sentence = re.sub(r'\\d+', '', sentence)\n",
        "    \n",
        "    # return none if the string is empty. Later we will remove all nones\n",
        "    if len(sentence) == 0:\n",
        "        return None\n",
        "\n",
        "    # iterate over each word and remove punctuation\n",
        "    # remove stop words\n",
        "    text_words = nltk.regexp_tokenize(sentence, pattern)\n",
        "    text_words_processed = []\n",
        "    for word in text_words:\n",
        "        # if it is not a punctuation\n",
        "        if not (word in string.punctuation or word in cachedStopWords):\n",
        "            text_words_processed.append(word)\n",
        "            \n",
        "    # lemmitazation\n",
        "    lemmatizer = nltk.stem.WordNetLemmatizer()\n",
        "    text_words_processed = [lemmatizer.lemmatize(word) for word in text_words_processed]\n",
        "\n",
        "    return ' '.join(text_words_processed)\n",
        "\n",
        "# apply function\n",
        "tmp[COMMENT_TEXT] = tmp[COMMENT_TEXT].apply(process_sentence)"
      ]
    },
    {
      "cell_type": "code",
      "execution_count": null,
      "metadata": {
        "colab": {
          "base_uri": "https://localhost:8080/"
        },
        "id": "TJy9_vG5gOvm",
        "outputId": "7fa838e1-317c-4363-f53f-a78b1c7d2fce"
      },
      "outputs": [
        {
          "name": "stdout",
          "output_type": "stream",
          "text": [
            "Nan values:  179 / 159571\n"
          ]
        },
        {
          "data": {
            "text/html": [
              "<div>\n",
              "<style scoped>\n",
              "    .dataframe tbody tr th:only-of-type {\n",
              "        vertical-align: middle;\n",
              "    }\n",
              "\n",
              "    .dataframe tbody tr th {\n",
              "        vertical-align: top;\n",
              "    }\n",
              "\n",
              "    .dataframe thead th {\n",
              "        text-align: right;\n",
              "    }\n",
              "</style>\n",
              "<table border=\"1\" class=\"dataframe\">\n",
              "  <thead>\n",
              "    <tr style=\"text-align: right;\">\n",
              "      <th></th>\n",
              "      <th>comment_text</th>\n",
              "      <th>toxic</th>\n",
              "      <th>severe_toxic</th>\n",
              "      <th>obscene</th>\n",
              "      <th>threat</th>\n",
              "      <th>insult</th>\n",
              "      <th>identity_hate</th>\n",
              "    </tr>\n",
              "  </thead>\n",
              "  <tbody>\n",
              "    <tr>\n",
              "      <th>0</th>\n",
              "      <td>explanation edits made username hardcore metal...</td>\n",
              "      <td>0</td>\n",
              "      <td>0</td>\n",
              "      <td>0</td>\n",
              "      <td>0</td>\n",
              "      <td>0</td>\n",
              "      <td>0</td>\n",
              "    </tr>\n",
              "    <tr>\n",
              "      <th>1</th>\n",
              "      <td>aww match background colour seemingly stuck th...</td>\n",
              "      <td>0</td>\n",
              "      <td>0</td>\n",
              "      <td>0</td>\n",
              "      <td>0</td>\n",
              "      <td>0</td>\n",
              "      <td>0</td>\n",
              "    </tr>\n",
              "    <tr>\n",
              "      <th>2</th>\n",
              "      <td>hey man really trying edit war guy constantly ...</td>\n",
              "      <td>0</td>\n",
              "      <td>0</td>\n",
              "      <td>0</td>\n",
              "      <td>0</td>\n",
              "      <td>0</td>\n",
              "      <td>0</td>\n",
              "    </tr>\n",
              "    <tr>\n",
              "      <th>3</th>\n",
              "      <td>make real suggestion improvement wondered sect...</td>\n",
              "      <td>0</td>\n",
              "      <td>0</td>\n",
              "      <td>0</td>\n",
              "      <td>0</td>\n",
              "      <td>0</td>\n",
              "      <td>0</td>\n",
              "    </tr>\n",
              "    <tr>\n",
              "      <th>4</th>\n",
              "      <td>sir hero chance remember page</td>\n",
              "      <td>0</td>\n",
              "      <td>0</td>\n",
              "      <td>0</td>\n",
              "      <td>0</td>\n",
              "      <td>0</td>\n",
              "      <td>0</td>\n",
              "    </tr>\n",
              "  </tbody>\n",
              "</table>\n",
              "</div>"
            ],
            "text/plain": [
              "                                        comment_text  toxic  severe_toxic  \\\n",
              "0  explanation edits made username hardcore metal...      0             0   \n",
              "1  aww match background colour seemingly stuck th...      0             0   \n",
              "2  hey man really trying edit war guy constantly ...      0             0   \n",
              "3  make real suggestion improvement wondered sect...      0             0   \n",
              "4                      sir hero chance remember page      0             0   \n",
              "\n",
              "   obscene  threat  insult  identity_hate  \n",
              "0        0       0       0              0  \n",
              "1        0       0       0              0  \n",
              "2        0       0       0              0  \n",
              "3        0       0       0              0  \n",
              "4        0       0       0              0  "
            ]
          },
          "execution_count": 8,
          "metadata": {},
          "output_type": "execute_result"
        }
      ],
      "source": [
        "# we have 122 nan values. Drop them.\n",
        "print('Nan values: ', tmp['comment_text'].isnull().sum().sum(), '/', tmp.shape[0])\n",
        "tmp = tmp.dropna()\n",
        "# drop id column\n",
        "tmp = tmp.drop('id', axis=1)\n",
        "\n",
        "tmp.head()"
      ]
    },
    {
      "cell_type": "markdown",
      "metadata": {
        "id": "-vjdcKgvzvaP"
      },
      "source": [
        "### Dataset visualization"
      ]
    },
    {
      "cell_type": "code",
      "execution_count": null,
      "metadata": {
        "colab": {
          "base_uri": "https://localhost:8080/",
          "height": 330
        },
        "id": "drBz7TIDztGz",
        "outputId": "c765173f-50ff-4171-bab0-cb4e307d3f41"
      },
      "outputs": [
        {
          "data": {
            "image/png": "[encoded data removed]",
            "text/plain": [
              "<Figure size 640x480 with 1 Axes>"
            ]
          },
          "metadata": {},
          "output_type": "display_data"
        },
        {
          "name": "stdout",
          "output_type": "stream",
          "text": [
            "\n",
            "Average number of tokens per sentence: 34.87\n"
          ]
        }
      ],
      "source": [
        "text_length = [len(sample.split()) for sample in tmp[COMMENT_TEXT]]\n",
        "\n",
        "# plot this information\n",
        "plt.hist(text_length, bins = 200)\n",
        "plt.xlabel('Number of tokens')\n",
        "plt.ylabel('Number of samples')\n",
        "plt.title('Number of tokens per sentence')\n",
        "plt.show()\n",
        "\n",
        "print('\\nAverage number of tokens per sentence: {:.2f}'.format(pd.DataFrame(text_length).mean().item()))"
      ]
    },
    {
      "cell_type": "markdown",
      "metadata": {
        "id": "hJqsr8ZgJHnR"
      },
      "source": [
        "Show information about categories that we have"
      ]
    },
    {
      "cell_type": "code",
      "execution_count": null,
      "metadata": {
        "colab": {
          "base_uri": "https://localhost:8080/",
          "height": 586
        },
        "id": "QlPuir0CztQX",
        "outputId": "4a51712c-3af1-4b3a-d6da-dae08abd66cf"
      },
      "outputs": [
        {
          "data": {
            "text/plain": [
              "<AxesSubplot:title={'center':'Total number of samples per category'}, xlabel='Category'>"
            ]
          },
          "execution_count": 10,
          "metadata": {},
          "output_type": "execute_result"
        },
        {
          "data": {
            "image/png": "[encoded data removed]",
            "text/plain": [
              "<Figure size 800x800 with 1 Axes>"
            ]
          },
          "metadata": {},
          "output_type": "display_data"
        }
      ],
      "source": [
        "# category information\n",
        "y_data = tmp.drop([COMMENT_TEXT], axis=1)\n",
        "label_count = [ [category, len(np.where(y_data[category] == 1)[0])] for category in list(y_data.columns.values) ]\n",
        "label_df = pd.DataFrame(label_count, columns=['Category', 'Samples'])   \n",
        "\n",
        "# plot this information using df.plot() function\n",
        "label_df.plot(x='Category', y='Samples', title='Total number of samples per category', \n",
        "              kind='bar', figsize=(8,8))"
      ]
    },
    {
      "cell_type": "markdown",
      "metadata": {
        "id": "PjQ-RUvf-ey8"
      },
      "source": [
        "## Prepare the dataset for training"
      ]
    },
    {
      "cell_type": "markdown",
      "metadata": {
        "id": "H3rQGnfLKd-v"
      },
      "source": [
        "Extract categories that we are using"
      ]
    },
    {
      "cell_type": "code",
      "execution_count": null,
      "metadata": {
        "colab": {
          "base_uri": "https://localhost:8080/"
        },
        "id": "IfzjoPqVE8At",
        "outputId": "902678c4-ac85-46ba-ca3a-7e254f5020df"
      },
      "outputs": [
        {
          "data": {
            "text/plain": [
              "{'toxic': 0,\n",
              " 'severe_toxic': 1,\n",
              " 'obscene': 2,\n",
              " 'threat': 3,\n",
              " 'insult': 4,\n",
              " 'identity_hate': 5}"
            ]
          },
          "execution_count": 11,
          "metadata": {},
          "output_type": "execute_result"
        }
      ],
      "source": [
        "# add a new column which will be our label\n",
        "tmp.insert(1, TARGET_CLASSES, [list(sample) for _, sample in y_data.iterrows()] )\n",
        "\n",
        "label_list = label_df['Category']\n",
        "labels = dict(zip(label_list, range(0, len(label_list))))\n",
        "labels"
      ]
    },
    {
      "cell_type": "code",
      "execution_count": null,
      "metadata": {
        "id": "jl4Vijrl6wvh"
      },
      "outputs": [],
      "source": [
        "class DatasetClass(Dataset):\n",
        "\n",
        "    def __init__(self, df, tokenizer, max_len):\n",
        "        self.tokenizer = tokenizer\n",
        "        self.comment = df[COMMENT_TEXT].reset_index(drop=True)\n",
        "        self.targets = df[TARGET_CLASSES].reset_index(drop=True)\n",
        "        self.max_len = max_len\n",
        "\n",
        "    def __len__(self):\n",
        "        return len(self.comment)\n",
        "\n",
        "    def __getitem__(self, index):\n",
        "        comment = str(self.comment[index])\n",
        "        comment = ' '.join(comment.split())\n",
        "\n",
        "        inputs = self.tokenizer.encode_plus(\n",
        "            comment,\n",
        "            None,\n",
        "            add_special_tokens=True,\n",
        "            max_length=self.max_len,\n",
        "            padding='max_length',\n",
        "            return_token_type_ids=True,\n",
        "            truncation=True\n",
        "        )\n",
        "        ids = inputs['input_ids']\n",
        "        mask = inputs['attention_mask']\n",
        "        token_type_ids = inputs[\"token_type_ids\"]\n",
        "        \n",
        "        return {\n",
        "            'ids': torch.tensor(ids, dtype=torch.long),\n",
        "            'mask': torch.tensor(mask, dtype=torch.long),\n",
        "            'token_type_ids': torch.tensor(token_type_ids, dtype=torch.long),\n",
        "            'targets': torch.tensor(self.targets[index], dtype=torch.float)\n",
        "        }"
      ]
    },
    {
      "cell_type": "markdown",
      "metadata": {
        "id": "XpyfExMbnl29"
      },
      "source": [
        "Just shuffling is not a good idea, as samples of a specific category might end up all (or majority) in validation and test dataset and not training or the opposite, when there is not samples in validation or test dataset and all in training. Therefore, the model won't be able to learn anything. Because of this, categories that contains less samples will be fed ."
      ]
    },
    {
      "cell_type": "code",
      "execution_count": null,
      "metadata": {
        "id": "11w6i8cZD43s"
      },
      "outputs": [],
      "source": [
        "def get_datasets(df):\n",
        "    '''\n",
        "        Receives a dataset and returns train/val/test dataset with the same \n",
        "        balance proportion in each of them.\n",
        "    '''\n",
        "    others = df.copy()\n",
        "    # get rare categories \n",
        "    # deleting same entries from the original dataset\n",
        "    severe_cat = others[others['severe_toxic'] == 1].copy()\n",
        "    others.drop(others.loc[others['severe_toxic'] == 1].index, inplace=True)\n",
        "\n",
        "    threat_cat = others[others['threat'] == 1].copy()\n",
        "    others.drop(others.loc[others['threat'] == 1].index, inplace=True)\n",
        "\n",
        "    identity_cat = others[others['identity_hate'] == 1].copy()\n",
        "    others.drop(others.loc[others['identity_hate'] == 1].index, inplace=True)\n",
        "\n",
        "    # create train/val/test sets\n",
        "    # we assume that val/test split size is the same\n",
        "    split_main = int(len(others) * SPLIT_SIZE * 2)\n",
        "    split_sever = int(len(severe_cat) * SPLIT_SIZE * 2)\n",
        "    split_threat = int(len(threat_cat) * SPLIT_SIZE * 2)\n",
        "    split_id = int(len(identity_cat) * SPLIT_SIZE * 2)\n",
        "    train_set = pd.concat([ others[split_main:], severe_cat[split_sever:], \n",
        "                           threat_cat[split_threat:], identity_cat[split_id:] ])\n",
        "\n",
        "    # val/test sets\n",
        "    test_split_main = int(len(others) * SPLIT_SIZE)\n",
        "    test_split_sever = int(len(severe_cat) * SPLIT_SIZE)\n",
        "    test_split_threat = int(len(threat_cat) * SPLIT_SIZE)\n",
        "    test_split_id = int(len(identity_cat) * SPLIT_SIZE)\n",
        "    val_set = pd.concat([ others[test_split_main:split_main], severe_cat[test_split_sever:split_sever], \n",
        "                         threat_cat[test_split_threat:split_threat], identity_cat[test_split_threat:split_id] ])\n",
        "    test_set = pd.concat([ others[:test_split_main], severe_cat[:test_split_sever], \n",
        "                          threat_cat[:test_split_threat], identity_cat[:test_split_threat] ])\n",
        "    \n",
        "    # shuffle again\n",
        "    train_set = shuffle(train_set)\n",
        "    val_set = shuffle(val_set)\n",
        "    test_set = shuffle(test_set)\n",
        "\n",
        "    return train_set, val_set, test_set\n",
        "\n",
        "model_dataset = tmp[[COMMENT_TEXT, TARGET_CLASSES]].copy()\n",
        "train_set, val_set, test_set = get_datasets(tmp)\n",
        "\n",
        "train_dataset = DatasetClass(train_set, tokenizer, MAX_LENGTH)\n",
        "val_dataset = DatasetClass(val_set, tokenizer, MAX_LENGTH)\n",
        "test_dataset = DatasetClass(test_set, tokenizer, MAX_LENGTH)"
      ]
    },
    {
      "cell_type": "markdown",
      "metadata": {
        "id": "Q2OE0xsq0ReN"
      },
      "source": [
        "We can plot now the distribution of samples among categories, and we can see, that the distribution is the same."
      ]
    },
    {
      "cell_type": "code",
      "execution_count": null,
      "metadata": {
        "colab": {
          "base_uri": "https://localhost:8080/",
          "height": 586
        },
        "id": "6G53DQ2Rzz81",
        "outputId": "2ebf3e7d-0c63-4f6e-cc00-696d690d37f8"
      },
      "outputs": [
        {
          "data": {
            "text/plain": [
              "<AxesSubplot:title={'center':'Total number of samples per category'}, xlabel='Category'>"
            ]
          },
          "execution_count": 29,
          "metadata": {},
          "output_type": "execute_result"
        },
        {
          "data": {
            "image/png": "[encoded data removed]",
            "text/plain": [
              "<Figure size 800x800 with 1 Axes>"
            ]
          },
          "metadata": {},
          "output_type": "display_data"
        }
      ],
      "source": [
        "# category information\n",
        "y_data = val_set.drop([COMMENT_TEXT, TARGET_CLASSES], axis=1)\n",
        "label_count = [ [category, len(np.where(y_data[category] == 1)[0])] for category in list(y_data.columns.values) ]\n",
        "label_df = pd.DataFrame(label_count, columns=['Category', 'Samples'])   \n",
        "\n",
        "# plot this information using df.plot() function\n",
        "label_df.plot(x='Category', y='Samples', title='Total number of samples per category', \n",
        "              kind='bar', figsize=(8,8))"
      ]
    },
    {
      "cell_type": "code",
      "execution_count": null,
      "metadata": {
        "id": "cWqeCTKJjAFU"
      },
      "outputs": [],
      "source": [
        "train_params = {'batch_size': BATCH_SIZE,\n",
        "                'shuffle': True,\n",
        "                'num_workers': 0\n",
        "                }\n",
        "\n",
        "test_params = {'batch_size': BATCH_SIZE,\n",
        "                'shuffle': False,\n",
        "                'num_workers': 0\n",
        "                }\n",
        "\n",
        "training_loader = DataLoader(train_dataset, **train_params)\n",
        "validation_loader = DataLoader(val_dataset, **test_params)\n",
        "test_loader = DataLoader(test_dataset, **test_params)"
      ]
    },
    {
      "cell_type": "markdown",
      "metadata": {
        "id": "ckJbJNl3hzw8"
      },
      "source": [
        "### BERT model define"
      ]
    },
    {
      "cell_type": "code",
      "execution_count": null,
      "metadata": {
        "colab": {
          "base_uri": "https://localhost:8080/",
          "height": 121,
          "referenced_widgets": [
            "1a955a388f484de0b9ba556b23187c1e",
            "4ee3d10c726c4a4fa535cc62a44db9b8",
            "a763605e697c4823ba322e3af6a6d361",
            "9ab0555695e64c68822f8b8492c61958",
            "be727c2de21e4794a8afb350111c3f16",
            "6f86d10280834e048cc5cef17c17458a",
            "7b8077aa517344168009feea0e67f54d",
            "2643de55032a4ea189142eead302e2d8",
            "db65d3254e0941caab7e0ab1e1019708",
            "7d118254b46d465e9f97e15dbf2b5747",
            "0eadceafab724ef58fb89d11b4fe6fd4"
          ]
        },
        "id": "-KjJw3JDIsVn",
        "outputId": "1d213647-51b6-492e-b06a-b70f3c9a7136"
      },
      "outputs": [
        {
          "name": "stderr",
          "output_type": "stream",
          "text": [
            "Some weights of the model checkpoint at bert-base-uncased were not used when initializing BertModel: ['cls.predictions.transform.dense.bias', 'cls.predictions.decoder.weight', 'cls.predictions.bias', 'cls.predictions.transform.LayerNorm.bias', 'cls.predictions.transform.LayerNorm.weight', 'cls.seq_relationship.bias', 'cls.seq_relationship.weight', 'cls.predictions.transform.dense.weight']\n",
            "- This IS expected if you are initializing BertModel from the checkpoint of a model trained on another task or with another architecture (e.g. initializing a BertForSequenceClassification model from a BertForPreTraining model).\n",
            "- This IS NOT expected if you are initializing BertModel from the checkpoint of a model that you expect to be exactly identical (initializing a BertForSequenceClassification model from a BertForSequenceClassification model).\n"
          ]
        }
      ],
      "source": [
        "class TransformerBERT(torch.nn.Module):\n",
        "    '''\n",
        "        My BERT Transformer model consists of BERT encoder and a dropout\n",
        "        with linear layer, nothing extra complicated.\n",
        "    '''\n",
        "    def __init__(self):\n",
        "        global labels\n",
        "        super(TransformerBERT, self).__init__()\n",
        "\n",
        "        self.encoder = BertModel.from_pretrained('bert-base-uncased')\n",
        "        self.classifier = torch.nn.Sequential(\n",
        "            torch.nn.Dropout(0.3),\n",
        "            torch.nn.Linear(768, len(labels))\n",
        "            )\n",
        "    \n",
        "    def forward(self, ids, mask, token_type_ids):\n",
        "        _, output_1 = self.encoder(ids, attention_mask=mask, token_type_ids=token_type_ids, \n",
        "                                  return_dict=False)\n",
        "        prob_out = self.classifier(output_1)\n",
        "\n",
        "        return prob_out\n",
        "\n",
        "model = TransformerBERT()\n",
        "model.to(device);"
      ]
    },
    {
      "cell_type": "markdown",
      "metadata": {
        "id": "wgRcAJiwO2R1"
      },
      "source": [
        "Define loss and optimizer"
      ]
    },
    {
      "cell_type": "code",
      "execution_count": null,
      "metadata": {
        "id": "ImSbtcgoD46s"
      },
      "outputs": [],
      "source": [
        "loss_func = torch.nn.BCEWithLogitsLoss()\n",
        "optimizer = torch.optim.Adam(params=model.parameters(), lr=lr)"
      ]
    },
    {
      "cell_type": "code",
      "execution_count": null,
      "metadata": {
        "id": "aOq4Glzwo4SG"
      },
      "outputs": [],
      "source": [
        "def load_model(checkpoint_path, model, optimizer, device):\n",
        "    '''\n",
        "        Loading the model from the specified checkpoint_path.\n",
        "        Model variable is used as a target model, when the optimizer is used\n",
        "        as a target optimizer\n",
        "    '''\n",
        "    # load checkpoint\n",
        "    checkpoint = torch.load(checkpoint_path)\n",
        "    # initialize state_dict\n",
        "    model.load_state_dict(checkpoint['state_dict'])\n",
        "    # initialize optimizer\n",
        "    optimizer.load_state_dict(checkpoint['optimizer'])\n",
        "\n",
        "    return model, optimizer, checkpoint['epoch']"
      ]
    },
    {
      "cell_type": "markdown",
      "metadata": {
        "id": "5NA0BmY5iL3J"
      },
      "source": [
        "## Training"
      ]
    },
    {
      "cell_type": "code",
      "execution_count": null,
      "metadata": {
        "id": "LP-VPOVZiK7T"
      },
      "outputs": [],
      "source": [
        "def train_model(start_epochs,  n_epochs, \n",
        "                training_loader, validation_loader, model, \n",
        "                optimizer, checkpoint_path): \n",
        "    for epoch in range(start_epochs, n_epochs+1):\n",
        "        train_loss = 0\n",
        "        valid_loss = 0\n",
        "\n",
        "        ##### Training #####\n",
        "        model.train()\n",
        "        print('Training started for epoch ', epoch)\n",
        "\n",
        "        for batch_idx, data in enumerate(training_loader):\n",
        "            ids = data['ids'].to(device, dtype = torch.long)\n",
        "            mask = data['mask'].to(device, dtype = torch.long)\n",
        "            token_type_ids = data['token_type_ids'].to(device, dtype = torch.long)\n",
        "            targets = data['targets'].to(device, dtype = torch.float)\n",
        "\n",
        "            optimizer.zero_grad()\n",
        "            predictions = model(ids, mask, token_type_ids)\n",
        "\n",
        "            loss = loss_func(predictions, targets)\n",
        "            loss.backward()\n",
        "            optimizer.step()\n",
        "            train_loss = train_loss + ((1 / (batch_idx + 1)) * (loss.item() - train_loss))\n",
        "\n",
        "            if batch_idx % 100 == 0:\n",
        "                print('Batch: ', batch_idx, '/', len(training_loader))\n",
        "\n",
        "        ##### Validation #####\n",
        "        print('Training finished for epoch ', epoch)\n",
        "        print('Validation started for epoch ', epoch) \n",
        "        model.eval()\n",
        "\n",
        "        # no_grad is used as we use a validation set\n",
        "        with torch.no_grad():\n",
        "            for batch_idx, data in enumerate(validation_loader, 0):\n",
        "                ids = data['ids'].to(device, dtype = torch.long)\n",
        "                mask = data['mask'].to(device, dtype = torch.long)\n",
        "                token_type_ids = data['token_type_ids'].to(device, dtype = torch.long)\n",
        "                targets = data['targets'].to(device, dtype = torch.float)\n",
        "\n",
        "                outputs = model(ids, mask, token_type_ids)\n",
        "                loss = loss_func(outputs, targets)\n",
        "\n",
        "                valid_loss = valid_loss + ((1 / (batch_idx + 1)) * (loss.item() - valid_loss))\n",
        "\n",
        "                if batch_idx % 100 == 0:\n",
        "                    print('Batch: ', batch_idx, '/', len(validation_loader))\n",
        "\n",
        "            print('Validation finished for epoch ', epoch) \n",
        "            # calculate average losses\n",
        "            train_loss = train_loss/len(training_loader)\n",
        "            valid_loss = valid_loss/len(validation_loader)\n",
        "            print('Epoch: {} \\tAvgerage Training Loss: {:.6f} \\tAverage Validation Loss: {:.6f}'.format(\n",
        "                epoch, \n",
        "                train_loss,\n",
        "                valid_loss\n",
        "                ))\n",
        "\n",
        "            # create checkpoint\n",
        "            checkpoint = {\n",
        "                'state_dict': model.state_dict(),\n",
        "                'optimizer': optimizer.state_dict(),\n",
        "                'epoch': epoch + 1\n",
        "            }\n",
        "\n",
        "            # save checkpoint\n",
        "            torch.save(checkpoint, checkpoint_path)\n",
        "\n",
        "    print('Finished training')\n",
        "    \n",
        "    return model"
      ]
    },
    {
      "cell_type": "code",
      "source": [
        "trained_model = train_model(1, 2, training_loader, validation_loader, model, optimizer, checkpoint_path)"
      ],
      "metadata": {
        "id": "ldupy94UXl7m"
      },
      "execution_count": null,
      "outputs": []
    },
    {
      "cell_type": "markdown",
      "metadata": {
        "id": "ZRh7hzA3WLa4"
      },
      "source": [
        "## Testing and confusion matrix"
      ]
    },
    {
      "cell_type": "code",
      "execution_count": null,
      "metadata": {
        "id": "ABobMM9uUycD"
      },
      "outputs": [],
      "source": [
        "def test_model(test_loader, model):\n",
        "    y_true = []\n",
        "    y_pred = []\n",
        "    \n",
        "    model.eval()\n",
        "\n",
        "    # no_grad is used as we use a validation set\n",
        "    with torch.no_grad():\n",
        "        for batch_idx, data in enumerate(test_loader, 0):\n",
        "            ids = data['ids'].to(device, dtype = torch.long)\n",
        "            mask = data['mask'].to(device, dtype = torch.long)\n",
        "            token_type_ids = data['token_type_ids'].to(device, dtype = torch.long)\n",
        "            targets = data['targets'].to(device, dtype = torch.float)\n",
        "\n",
        "            outputs = model(ids, mask, token_type_ids)\n",
        "\n",
        "            y_true.extend(targets.cpu().detach().numpy().tolist())\n",
        "            y_pred.extend(torch.sigmoid(outputs).cpu().detach().numpy().tolist())\n",
        "\n",
        "            if batch_idx % 100 == 0:\n",
        "                print('Batch: ', batch_idx, '/', len(test_loader))\n",
        "\n",
        "    return y_true, y_pred"
      ]
    },
    {
      "cell_type": "code",
      "execution_count": null,
      "metadata": {
        "id": "EeS5FwpqmjOD"
      },
      "outputs": [],
      "source": [
        "loaded_model, _, _ = load_model(checkpoint_path, model, optimizer, device)"
      ]
    },
    {
      "cell_type": "code",
      "execution_count": null,
      "metadata": {
        "colab": {
          "base_uri": "https://localhost:8080/"
        },
        "id": "5fTICINekFtj",
        "outputId": "bec1e41e-d0ab-4203-d541-627a08966058"
      },
      "outputs": [
        {
          "name": "stdout",
          "output_type": "stream",
          "text": [
            "Batch:  0 / 496\n",
            "Batch:  100 / 496\n",
            "Batch:  200 / 496\n",
            "Batch:  300 / 496\n",
            "Batch:  400 / 496\n"
          ]
        }
      ],
      "source": [
        "y_true, y_pred = test_model(test_loader, loaded_model)"
      ]
    },
    {
      "cell_type": "markdown",
      "metadata": {
        "id": "CF-jYT9XXUGf"
      },
      "source": [
        "We define the category to belong to a specific class if the output is more than 0.5"
      ]
    },
    {
      "cell_type": "code",
      "execution_count": null,
      "metadata": {
        "id": "G34qNVKlS8oK"
      },
      "outputs": [],
      "source": [
        "test_preds = (np.array(y_pred) > 0.5).astype(int)\n",
        "cm = mcm(y_true, test_preds)"
      ]
    },
    {
      "cell_type": "code",
      "execution_count": null,
      "metadata": {
        "id": "Eno-jrYehNNd"
      },
      "outputs": [],
      "source": [
        "def plot_confusion_matrix(confusion_matrix, axes, class_label, class_names, fontsize=14):\n",
        "\n",
        "    df_cm = pd.DataFrame(\n",
        "        confusion_matrix, index=class_names, columns=class_names,\n",
        "    )\n",
        "\n",
        "    try:\n",
        "        heatmap = sns.heatmap(df_cm, annot=True, fmt=\"d\", cbar=False, ax=axes)\n",
        "    except ValueError:\n",
        "        raise ValueError(\"Confusion matrix values must be integers.\")\n",
        "        \n",
        "    heatmap.yaxis.set_ticklabels(heatmap.yaxis.get_ticklabels(), rotation=0, ha='right', fontsize=fontsize)\n",
        "    heatmap.xaxis.set_ticklabels(heatmap.xaxis.get_ticklabels(), rotation=0, ha='right', fontsize=fontsize)\n",
        "    \n",
        "    axes.set_xlabel('True label')\n",
        "    axes.set_ylabel('Predicted label')\n",
        "    axes.set_title(\"Confusion Matrix for the category - \" + class_label)"
      ]
    },
    {
      "cell_type": "code",
      "execution_count": null,
      "metadata": {
        "id": "qApLUmqrwTxR",
        "outputId": "27bd3cf6-4435-445e-ee37-6541a360dcec"
      },
      "outputs": [
        {
          "data": {
            "image/png": "[encoded data removed]",
            "text/plain": [
              "<Figure size 1200x700 with 6 Axes>"
            ]
          },
          "metadata": {},
          "output_type": "display_data"
        }
      ],
      "source": [
        "sns.set_style(\"whitegrid\")\n",
        "fig, ax = plt.subplots(3, 2, figsize=(12, 7))\n",
        "\n",
        "for axes, cfs_matrix, label in zip(ax.flatten(), cm, labels.keys()):\n",
        "    plot_confusion_matrix(cfs_matrix, axes, label, [\"0\", \"1\"])\n",
        "    \n",
        "fig.tight_layout()\n",
        "plt.show()"
      ]
    },
    {
      "cell_type": "code",
      "execution_count": null,
      "metadata": {
        "colab": {
          "base_uri": "https://localhost:8080/"
        },
        "id": "Z5Bpsn7VhNK5",
        "outputId": "c4b9e7bd-b685-4cfc-c569-dee9a7c40d8f"
      },
      "outputs": [
        {
          "name": "stdout",
          "output_type": "stream",
          "text": [
            "Accuracy Score:  0.9266633064516129\n",
            "F1 Score (Micro):  0.7689681923972073\n",
            "F1 Score (Macro):  0.5676334113087171\n"
          ]
        }
      ],
      "source": [
        "accuracy = metrics.accuracy_score(y_true, test_preds)\n",
        "f1_score_micro = metrics.f1_score(y_true, test_preds, average='micro')\n",
        "f1_score_macro = metrics.f1_score(y_true, test_preds, average='macro')\n",
        "\n",
        "print('Accuracy Score: ', accuracy)\n",
        "print('F1 Score (Micro): ', f1_score_micro)\n",
        "print('F1 Score (Macro): ', f1_score_macro)"
      ]
    },
    {
      "cell_type": "code",
      "execution_count": null,
      "metadata": {
        "id": "KWUvj_l0S8oL"
      },
      "outputs": [],
      "source": []
    }
  ],
  "metadata": {
    "accelerator": "TPU",
    "colab": {
      "provenance": [],
      "include_colab_link": true
    },
    "gpuClass": "standard",
    "kernelspec": {
      "display_name": "Python 3 (ipykernel)",
      "language": "python",
      "name": "python3"
    },
    "language_info": {
      "codemirror_mode": {
        "name": "ipython",
        "version": 3
      },
      "file_extension": ".py",
      "mimetype": "text/x-python",
      "name": "python",
      "nbconvert_exporter": "python",
      "pygments_lexer": "ipython3",
      "version": "3.9.7"
    },
    "widgets": {
      "application/vnd.jupyter.widget-state+json": {
        "02fdb1ea9516476dab643c05d3aec9cf": {
          "model_module": "@jupyter-widgets/base",
          "model_module_version": "1.2.0",
          "model_name": "LayoutModel",
          "state": {
            "_model_module": "@jupyter-widgets/base",
            "_model_module_version": "1.2.0",
            "_model_name": "LayoutModel",
            "_view_count": null,
            "_view_module": "@jupyter-widgets/base",
            "_view_module_version": "1.2.0",
            "_view_name": "LayoutView",
            "align_content": null,
            "align_items": null,
            "align_self": null,
            "border": null,
            "bottom": null,
            "display": null,
            "flex": null,
            "flex_flow": null,
            "grid_area": null,
            "grid_auto_columns": null,
            "grid_auto_flow": null,
            "grid_auto_rows": null,
            "grid_column": null,
            "grid_gap": null,
            "grid_row": null,
            "grid_template_areas": null,
            "grid_template_columns": null,
            "grid_template_rows": null,
            "height": null,
            "justify_content": null,
            "justify_items": null,
            "left": null,
            "margin": null,
            "max_height": null,
            "max_width": null,
            "min_height": null,
            "min_width": null,
            "object_fit": null,
            "object_position": null,
            "order": null,
            "overflow": null,
            "overflow_x": null,
            "overflow_y": null,
            "padding": null,
            "right": null,
            "top": null,
            "visibility": null,
            "width": null
          }
        },
        "04d6e027dd4a4f38868f926fbbbfd9f1": {
          "model_module": "@jupyter-widgets/base",
          "model_module_version": "1.2.0",
          "model_name": "LayoutModel",
          "state": {
            "_model_module": "@jupyter-widgets/base",
            "_model_module_version": "1.2.0",
            "_model_name": "LayoutModel",
            "_view_count": null,
            "_view_module": "@jupyter-widgets/base",
            "_view_module_version": "1.2.0",
            "_view_name": "LayoutView",
            "align_content": null,
            "align_items": null,
            "align_self": null,
            "border": null,
            "bottom": null,
            "display": null,
            "flex": null,
            "flex_flow": null,
            "grid_area": null,
            "grid_auto_columns": null,
            "grid_auto_flow": null,
            "grid_auto_rows": null,
            "grid_column": null,
            "grid_gap": null,
            "grid_row": null,
            "grid_template_areas": null,
            "grid_template_columns": null,
            "grid_template_rows": null,
            "height": null,
            "justify_content": null,
            "justify_items": null,
            "left": null,
            "margin": null,
            "max_height": null,
            "max_width": null,
            "min_height": null,
            "min_width": null,
            "object_fit": null,
            "object_position": null,
            "order": null,
            "overflow": null,
            "overflow_x": null,
            "overflow_y": null,
            "padding": null,
            "right": null,
            "top": null,
            "visibility": null,
            "width": null
          }
        },
        "0eadceafab724ef58fb89d11b4fe6fd4": {
          "model_module": "@jupyter-widgets/controls",
          "model_module_version": "1.5.0",
          "model_name": "DescriptionStyleModel",
          "state": {
            "_model_module": "@jupyter-widgets/controls",
            "_model_module_version": "1.5.0",
            "_model_name": "DescriptionStyleModel",
            "_view_count": null,
            "_view_module": "@jupyter-widgets/base",
            "_view_module_version": "1.2.0",
            "_view_name": "StyleView",
            "description_width": ""
          }
        },
        "0fa69d6fb3a24abe8d262419cb8d9317": {
          "model_module": "@jupyter-widgets/base",
          "model_module_version": "1.2.0",
          "model_name": "LayoutModel",
          "state": {
            "_model_module": "@jupyter-widgets/base",
            "_model_module_version": "1.2.0",
            "_model_name": "LayoutModel",
            "_view_count": null,
            "_view_module": "@jupyter-widgets/base",
            "_view_module_version": "1.2.0",
            "_view_name": "LayoutView",
            "align_content": null,
            "align_items": null,
            "align_self": null,
            "border": null,
            "bottom": null,
            "display": null,
            "flex": null,
            "flex_flow": null,
            "grid_area": null,
            "grid_auto_columns": null,
            "grid_auto_flow": null,
            "grid_auto_rows": null,
            "grid_column": null,
            "grid_gap": null,
            "grid_row": null,
            "grid_template_areas": null,
            "grid_template_columns": null,
            "grid_template_rows": null,
            "height": null,
            "justify_content": null,
            "justify_items": null,
            "left": null,
            "margin": null,
            "max_height": null,
            "max_width": null,
            "min_height": null,
            "min_width": null,
            "object_fit": null,
            "object_position": null,
            "order": null,
            "overflow": null,
            "overflow_x": null,
            "overflow_y": null,
            "padding": null,
            "right": null,
            "top": null,
            "visibility": null,
            "width": null
          }
        },
        "1082e11eb2eb4f8ebe54c3ffffbe45d6": {
          "model_module": "@jupyter-widgets/base",
          "model_module_version": "1.2.0",
          "model_name": "LayoutModel",
          "state": {
            "_model_module": "@jupyter-widgets/base",
            "_model_module_version": "1.2.0",
            "_model_name": "LayoutModel",
            "_view_count": null,
            "_view_module": "@jupyter-widgets/base",
            "_view_module_version": "1.2.0",
            "_view_name": "LayoutView",
            "align_content": null,
            "align_items": null,
            "align_self": null,
            "border": null,
            "bottom": null,
            "display": null,
            "flex": null,
            "flex_flow": null,
            "grid_area": null,
            "grid_auto_columns": null,
            "grid_auto_flow": null,
            "grid_auto_rows": null,
            "grid_column": null,
            "grid_gap": null,
            "grid_row": null,
            "grid_template_areas": null,
            "grid_template_columns": null,
            "grid_template_rows": null,
            "height": null,
            "justify_content": null,
            "justify_items": null,
            "left": null,
            "margin": null,
            "max_height": null,
            "max_width": null,
            "min_height": null,
            "min_width": null,
            "object_fit": null,
            "object_position": null,
            "order": null,
            "overflow": null,
            "overflow_x": null,
            "overflow_y": null,
            "padding": null,
            "right": null,
            "top": null,
            "visibility": null,
            "width": null
          }
        },
        "1400f13540154d468abe515c05dd064f": {
          "model_module": "@jupyter-widgets/base",
          "model_module_version": "1.2.0",
          "model_name": "LayoutModel",
          "state": {
            "_model_module": "@jupyter-widgets/base",
            "_model_module_version": "1.2.0",
            "_model_name": "LayoutModel",
            "_view_count": null,
            "_view_module": "@jupyter-widgets/base",
            "_view_module_version": "1.2.0",
            "_view_name": "LayoutView",
            "align_content": null,
            "align_items": null,
            "align_self": null,
            "border": null,
            "bottom": null,
            "display": null,
            "flex": null,
            "flex_flow": null,
            "grid_area": null,
            "grid_auto_columns": null,
            "grid_auto_flow": null,
            "grid_auto_rows": null,
            "grid_column": null,
            "grid_gap": null,
            "grid_row": null,
            "grid_template_areas": null,
            "grid_template_columns": null,
            "grid_template_rows": null,
            "height": null,
            "justify_content": null,
            "justify_items": null,
            "left": null,
            "margin": null,
            "max_height": null,
            "max_width": null,
            "min_height": null,
            "min_width": null,
            "object_fit": null,
            "object_position": null,
            "order": null,
            "overflow": null,
            "overflow_x": null,
            "overflow_y": null,
            "padding": null,
            "right": null,
            "top": null,
            "visibility": null,
            "width": null
          }
        },
        "1a955a388f484de0b9ba556b23187c1e": {
          "model_module": "@jupyter-widgets/controls",
          "model_module_version": "1.5.0",
          "model_name": "HBoxModel",
          "state": {
            "_dom_classes": [],
            "_model_module": "@jupyter-widgets/controls",
            "_model_module_version": "1.5.0",
            "_model_name": "HBoxModel",
            "_view_count": null,
            "_view_module": "@jupyter-widgets/controls",
            "_view_module_version": "1.5.0",
            "_view_name": "HBoxView",
            "box_style": "",
            "children": [
              "IPY_MODEL_4ee3d10c726c4a4fa535cc62a44db9b8",
              "IPY_MODEL_a763605e697c4823ba322e3af6a6d361",
              "IPY_MODEL_9ab0555695e64c68822f8b8492c61958"
            ],
            "layout": "IPY_MODEL_be727c2de21e4794a8afb350111c3f16"
          }
        },
        "2643de55032a4ea189142eead302e2d8": {
          "model_module": "@jupyter-widgets/base",
          "model_module_version": "1.2.0",
          "model_name": "LayoutModel",
          "state": {
            "_model_module": "@jupyter-widgets/base",
            "_model_module_version": "1.2.0",
            "_model_name": "LayoutModel",
            "_view_count": null,
            "_view_module": "@jupyter-widgets/base",
            "_view_module_version": "1.2.0",
            "_view_name": "LayoutView",
            "align_content": null,
            "align_items": null,
            "align_self": null,
            "border": null,
            "bottom": null,
            "display": null,
            "flex": null,
            "flex_flow": null,
            "grid_area": null,
            "grid_auto_columns": null,
            "grid_auto_flow": null,
            "grid_auto_rows": null,
            "grid_column": null,
            "grid_gap": null,
            "grid_row": null,
            "grid_template_areas": null,
            "grid_template_columns": null,
            "grid_template_rows": null,
            "height": null,
            "justify_content": null,
            "justify_items": null,
            "left": null,
            "margin": null,
            "max_height": null,
            "max_width": null,
            "min_height": null,
            "min_width": null,
            "object_fit": null,
            "object_position": null,
            "order": null,
            "overflow": null,
            "overflow_x": null,
            "overflow_y": null,
            "padding": null,
            "right": null,
            "top": null,
            "visibility": null,
            "width": null
          }
        },
        "2b4a9b21c16243a9b81b1a743524b160": {
          "model_module": "@jupyter-widgets/controls",
          "model_module_version": "1.5.0",
          "model_name": "DescriptionStyleModel",
          "state": {
            "_model_module": "@jupyter-widgets/controls",
            "_model_module_version": "1.5.0",
            "_model_name": "DescriptionStyleModel",
            "_view_count": null,
            "_view_module": "@jupyter-widgets/base",
            "_view_module_version": "1.2.0",
            "_view_name": "StyleView",
            "description_width": ""
          }
        },
        "368c65e0614f42b1801155080e9496ff": {
          "model_module": "@jupyter-widgets/controls",
          "model_module_version": "1.5.0",
          "model_name": "DescriptionStyleModel",
          "state": {
            "_model_module": "@jupyter-widgets/controls",
            "_model_module_version": "1.5.0",
            "_model_name": "DescriptionStyleModel",
            "_view_count": null,
            "_view_module": "@jupyter-widgets/base",
            "_view_module_version": "1.2.0",
            "_view_name": "StyleView",
            "description_width": ""
          }
        },
        "382601e0b996417789c4f9281c03fb9c": {
          "model_module": "@jupyter-widgets/controls",
          "model_module_version": "1.5.0",
          "model_name": "ProgressStyleModel",
          "state": {
            "_model_module": "@jupyter-widgets/controls",
            "_model_module_version": "1.5.0",
            "_model_name": "ProgressStyleModel",
            "_view_count": null,
            "_view_module": "@jupyter-widgets/base",
            "_view_module_version": "1.2.0",
            "_view_name": "StyleView",
            "bar_color": null,
            "description_width": ""
          }
        },
        "3a654f53323a44d384e6727e5488143f": {
          "model_module": "@jupyter-widgets/controls",
          "model_module_version": "1.5.0",
          "model_name": "DescriptionStyleModel",
          "state": {
            "_model_module": "@jupyter-widgets/controls",
            "_model_module_version": "1.5.0",
            "_model_name": "DescriptionStyleModel",
            "_view_count": null,
            "_view_module": "@jupyter-widgets/base",
            "_view_module_version": "1.2.0",
            "_view_name": "StyleView",
            "description_width": ""
          }
        },
        "3b64a97a15744398881efc369a88c2aa": {
          "model_module": "@jupyter-widgets/base",
          "model_module_version": "1.2.0",
          "model_name": "LayoutModel",
          "state": {
            "_model_module": "@jupyter-widgets/base",
            "_model_module_version": "1.2.0",
            "_model_name": "LayoutModel",
            "_view_count": null,
            "_view_module": "@jupyter-widgets/base",
            "_view_module_version": "1.2.0",
            "_view_name": "LayoutView",
            "align_content": null,
            "align_items": null,
            "align_self": null,
            "border": null,
            "bottom": null,
            "display": null,
            "flex": null,
            "flex_flow": null,
            "grid_area": null,
            "grid_auto_columns": null,
            "grid_auto_flow": null,
            "grid_auto_rows": null,
            "grid_column": null,
            "grid_gap": null,
            "grid_row": null,
            "grid_template_areas": null,
            "grid_template_columns": null,
            "grid_template_rows": null,
            "height": null,
            "justify_content": null,
            "justify_items": null,
            "left": null,
            "margin": null,
            "max_height": null,
            "max_width": null,
            "min_height": null,
            "min_width": null,
            "object_fit": null,
            "object_position": null,
            "order": null,
            "overflow": null,
            "overflow_x": null,
            "overflow_y": null,
            "padding": null,
            "right": null,
            "top": null,
            "visibility": null,
            "width": null
          }
        },
        "469d4aa85c404e5e87aa0a449bc19ea7": {
          "model_module": "@jupyter-widgets/controls",
          "model_module_version": "1.5.0",
          "model_name": "HTMLModel",
          "state": {
            "_dom_classes": [],
            "_model_module": "@jupyter-widgets/controls",
            "_model_module_version": "1.5.0",
            "_model_name": "HTMLModel",
            "_view_count": null,
            "_view_module": "@jupyter-widgets/controls",
            "_view_module_version": "1.5.0",
            "_view_name": "HTMLView",
            "description": "",
            "description_tooltip": null,
            "layout": "IPY_MODEL_4d7c730dfea84ce5a966a8f63a13dcc1",
            "placeholder": "​",
            "style": "IPY_MODEL_b02407d9d7ff445998d82447ceece7c0",
            "value": " 570/570 [00:00&lt;00:00, 4.62kB/s]"
          }
        },
        "4d45056a99cf437c9d36b336998d1247": {
          "model_module": "@jupyter-widgets/controls",
          "model_module_version": "1.5.0",
          "model_name": "FloatProgressModel",
          "state": {
            "_dom_classes": [],
            "_model_module": "@jupyter-widgets/controls",
            "_model_module_version": "1.5.0",
            "_model_name": "FloatProgressModel",
            "_view_count": null,
            "_view_module": "@jupyter-widgets/controls",
            "_view_module_version": "1.5.0",
            "_view_name": "ProgressView",
            "bar_style": "success",
            "description": "",
            "description_tooltip": null,
            "layout": "IPY_MODEL_80fd612cada946cdb67b993065a53b22",
            "max": 570,
            "min": 0,
            "orientation": "horizontal",
            "style": "IPY_MODEL_67c201aa84a3482abe601c528a3454a3",
            "value": 570
          }
        },
        "4d7c730dfea84ce5a966a8f63a13dcc1": {
          "model_module": "@jupyter-widgets/base",
          "model_module_version": "1.2.0",
          "model_name": "LayoutModel",
          "state": {
            "_model_module": "@jupyter-widgets/base",
            "_model_module_version": "1.2.0",
            "_model_name": "LayoutModel",
            "_view_count": null,
            "_view_module": "@jupyter-widgets/base",
            "_view_module_version": "1.2.0",
            "_view_name": "LayoutView",
            "align_content": null,
            "align_items": null,
            "align_self": null,
            "border": null,
            "bottom": null,
            "display": null,
            "flex": null,
            "flex_flow": null,
            "grid_area": null,
            "grid_auto_columns": null,
            "grid_auto_flow": null,
            "grid_auto_rows": null,
            "grid_column": null,
            "grid_gap": null,
            "grid_row": null,
            "grid_template_areas": null,
            "grid_template_columns": null,
            "grid_template_rows": null,
            "height": null,
            "justify_content": null,
            "justify_items": null,
            "left": null,
            "margin": null,
            "max_height": null,
            "max_width": null,
            "min_height": null,
            "min_width": null,
            "object_fit": null,
            "object_position": null,
            "order": null,
            "overflow": null,
            "overflow_x": null,
            "overflow_y": null,
            "padding": null,
            "right": null,
            "top": null,
            "visibility": null,
            "width": null
          }
        },
        "4e5d5de497764f5c828f60c5c184fcb8": {
          "model_module": "@jupyter-widgets/controls",
          "model_module_version": "1.5.0",
          "model_name": "FloatProgressModel",
          "state": {
            "_dom_classes": [],
            "_model_module": "@jupyter-widgets/controls",
            "_model_module_version": "1.5.0",
            "_model_name": "FloatProgressModel",
            "_view_count": null,
            "_view_module": "@jupyter-widgets/controls",
            "_view_module_version": "1.5.0",
            "_view_name": "ProgressView",
            "bar_style": "success",
            "description": "",
            "description_tooltip": null,
            "layout": "IPY_MODEL_3b64a97a15744398881efc369a88c2aa",
            "max": 28,
            "min": 0,
            "orientation": "horizontal",
            "style": "IPY_MODEL_87645c30534040aabb7a402a9199a95d",
            "value": 28
          }
        },
        "4ee3d10c726c4a4fa535cc62a44db9b8": {
          "model_module": "@jupyter-widgets/controls",
          "model_module_version": "1.5.0",
          "model_name": "HTMLModel",
          "state": {
            "_dom_classes": [],
            "_model_module": "@jupyter-widgets/controls",
            "_model_module_version": "1.5.0",
            "_model_name": "HTMLModel",
            "_view_count": null,
            "_view_module": "@jupyter-widgets/controls",
            "_view_module_version": "1.5.0",
            "_view_name": "HTMLView",
            "description": "",
            "description_tooltip": null,
            "layout": "IPY_MODEL_6f86d10280834e048cc5cef17c17458a",
            "placeholder": "​",
            "style": "IPY_MODEL_7b8077aa517344168009feea0e67f54d",
            "value": "Downloading: 100%"
          }
        },
        "5044da2b8e7c4e089c2c53d57e830447": {
          "model_module": "@jupyter-widgets/controls",
          "model_module_version": "1.5.0",
          "model_name": "HBoxModel",
          "state": {
            "_dom_classes": [],
            "_model_module": "@jupyter-widgets/controls",
            "_model_module_version": "1.5.0",
            "_model_name": "HBoxModel",
            "_view_count": null,
            "_view_module": "@jupyter-widgets/controls",
            "_view_module_version": "1.5.0",
            "_view_name": "HBoxView",
            "box_style": "",
            "children": [
              "IPY_MODEL_f0920231ec4f43cfa4c1d998ca5e6ed8",
              "IPY_MODEL_4e5d5de497764f5c828f60c5c184fcb8",
              "IPY_MODEL_e9b7efc16f4a4dea99a4b9f3a2e01d2b"
            ],
            "layout": "IPY_MODEL_02fdb1ea9516476dab643c05d3aec9cf"
          }
        },
        "50454484de234ca58a958c8aa78d7232": {
          "model_module": "@jupyter-widgets/base",
          "model_module_version": "1.2.0",
          "model_name": "LayoutModel",
          "state": {
            "_model_module": "@jupyter-widgets/base",
            "_model_module_version": "1.2.0",
            "_model_name": "LayoutModel",
            "_view_count": null,
            "_view_module": "@jupyter-widgets/base",
            "_view_module_version": "1.2.0",
            "_view_name": "LayoutView",
            "align_content": null,
            "align_items": null,
            "align_self": null,
            "border": null,
            "bottom": null,
            "display": null,
            "flex": null,
            "flex_flow": null,
            "grid_area": null,
            "grid_auto_columns": null,
            "grid_auto_flow": null,
            "grid_auto_rows": null,
            "grid_column": null,
            "grid_gap": null,
            "grid_row": null,
            "grid_template_areas": null,
            "grid_template_columns": null,
            "grid_template_rows": null,
            "height": null,
            "justify_content": null,
            "justify_items": null,
            "left": null,
            "margin": null,
            "max_height": null,
            "max_width": null,
            "min_height": null,
            "min_width": null,
            "object_fit": null,
            "object_position": null,
            "order": null,
            "overflow": null,
            "overflow_x": null,
            "overflow_y": null,
            "padding": null,
            "right": null,
            "top": null,
            "visibility": null,
            "width": null
          }
        },
        "67c201aa84a3482abe601c528a3454a3": {
          "model_module": "@jupyter-widgets/controls",
          "model_module_version": "1.5.0",
          "model_name": "ProgressStyleModel",
          "state": {
            "_model_module": "@jupyter-widgets/controls",
            "_model_module_version": "1.5.0",
            "_model_name": "ProgressStyleModel",
            "_view_count": null,
            "_view_module": "@jupyter-widgets/base",
            "_view_module_version": "1.2.0",
            "_view_name": "StyleView",
            "bar_color": null,
            "description_width": ""
          }
        },
        "6f86d10280834e048cc5cef17c17458a": {
          "model_module": "@jupyter-widgets/base",
          "model_module_version": "1.2.0",
          "model_name": "LayoutModel",
          "state": {
            "_model_module": "@jupyter-widgets/base",
            "_model_module_version": "1.2.0",
            "_model_name": "LayoutModel",
            "_view_count": null,
            "_view_module": "@jupyter-widgets/base",
            "_view_module_version": "1.2.0",
            "_view_name": "LayoutView",
            "align_content": null,
            "align_items": null,
            "align_self": null,
            "border": null,
            "bottom": null,
            "display": null,
            "flex": null,
            "flex_flow": null,
            "grid_area": null,
            "grid_auto_columns": null,
            "grid_auto_flow": null,
            "grid_auto_rows": null,
            "grid_column": null,
            "grid_gap": null,
            "grid_row": null,
            "grid_template_areas": null,
            "grid_template_columns": null,
            "grid_template_rows": null,
            "height": null,
            "justify_content": null,
            "justify_items": null,
            "left": null,
            "margin": null,
            "max_height": null,
            "max_width": null,
            "min_height": null,
            "min_width": null,
            "object_fit": null,
            "object_position": null,
            "order": null,
            "overflow": null,
            "overflow_x": null,
            "overflow_y": null,
            "padding": null,
            "right": null,
            "top": null,
            "visibility": null,
            "width": null
          }
        },
        "7b8077aa517344168009feea0e67f54d": {
          "model_module": "@jupyter-widgets/controls",
          "model_module_version": "1.5.0",
          "model_name": "DescriptionStyleModel",
          "state": {
            "_model_module": "@jupyter-widgets/controls",
            "_model_module_version": "1.5.0",
            "_model_name": "DescriptionStyleModel",
            "_view_count": null,
            "_view_module": "@jupyter-widgets/base",
            "_view_module_version": "1.2.0",
            "_view_name": "StyleView",
            "description_width": ""
          }
        },
        "7ceccf7587724fb783bcbf40243193b6": {
          "model_module": "@jupyter-widgets/controls",
          "model_module_version": "1.5.0",
          "model_name": "DescriptionStyleModel",
          "state": {
            "_model_module": "@jupyter-widgets/controls",
            "_model_module_version": "1.5.0",
            "_model_name": "DescriptionStyleModel",
            "_view_count": null,
            "_view_module": "@jupyter-widgets/base",
            "_view_module_version": "1.2.0",
            "_view_name": "StyleView",
            "description_width": ""
          }
        },
        "7d118254b46d465e9f97e15dbf2b5747": {
          "model_module": "@jupyter-widgets/base",
          "model_module_version": "1.2.0",
          "model_name": "LayoutModel",
          "state": {
            "_model_module": "@jupyter-widgets/base",
            "_model_module_version": "1.2.0",
            "_model_name": "LayoutModel",
            "_view_count": null,
            "_view_module": "@jupyter-widgets/base",
            "_view_module_version": "1.2.0",
            "_view_name": "LayoutView",
            "align_content": null,
            "align_items": null,
            "align_self": null,
            "border": null,
            "bottom": null,
            "display": null,
            "flex": null,
            "flex_flow": null,
            "grid_area": null,
            "grid_auto_columns": null,
            "grid_auto_flow": null,
            "grid_auto_rows": null,
            "grid_column": null,
            "grid_gap": null,
            "grid_row": null,
            "grid_template_areas": null,
            "grid_template_columns": null,
            "grid_template_rows": null,
            "height": null,
            "justify_content": null,
            "justify_items": null,
            "left": null,
            "margin": null,
            "max_height": null,
            "max_width": null,
            "min_height": null,
            "min_width": null,
            "object_fit": null,
            "object_position": null,
            "order": null,
            "overflow": null,
            "overflow_x": null,
            "overflow_y": null,
            "padding": null,
            "right": null,
            "top": null,
            "visibility": null,
            "width": null
          }
        },
        "80fd612cada946cdb67b993065a53b22": {
          "model_module": "@jupyter-widgets/base",
          "model_module_version": "1.2.0",
          "model_name": "LayoutModel",
          "state": {
            "_model_module": "@jupyter-widgets/base",
            "_model_module_version": "1.2.0",
            "_model_name": "LayoutModel",
            "_view_count": null,
            "_view_module": "@jupyter-widgets/base",
            "_view_module_version": "1.2.0",
            "_view_name": "LayoutView",
            "align_content": null,
            "align_items": null,
            "align_self": null,
            "border": null,
            "bottom": null,
            "display": null,
            "flex": null,
            "flex_flow": null,
            "grid_area": null,
            "grid_auto_columns": null,
            "grid_auto_flow": null,
            "grid_auto_rows": null,
            "grid_column": null,
            "grid_gap": null,
            "grid_row": null,
            "grid_template_areas": null,
            "grid_template_columns": null,
            "grid_template_rows": null,
            "height": null,
            "justify_content": null,
            "justify_items": null,
            "left": null,
            "margin": null,
            "max_height": null,
            "max_width": null,
            "min_height": null,
            "min_width": null,
            "object_fit": null,
            "object_position": null,
            "order": null,
            "overflow": null,
            "overflow_x": null,
            "overflow_y": null,
            "padding": null,
            "right": null,
            "top": null,
            "visibility": null,
            "width": null
          }
        },
        "8443a01ec3114140a3ca9587796db9a8": {
          "model_module": "@jupyter-widgets/controls",
          "model_module_version": "1.5.0",
          "model_name": "DescriptionStyleModel",
          "state": {
            "_model_module": "@jupyter-widgets/controls",
            "_model_module_version": "1.5.0",
            "_model_name": "DescriptionStyleModel",
            "_view_count": null,
            "_view_module": "@jupyter-widgets/base",
            "_view_module_version": "1.2.0",
            "_view_name": "StyleView",
            "description_width": ""
          }
        },
        "87645c30534040aabb7a402a9199a95d": {
          "model_module": "@jupyter-widgets/controls",
          "model_module_version": "1.5.0",
          "model_name": "ProgressStyleModel",
          "state": {
            "_model_module": "@jupyter-widgets/controls",
            "_model_module_version": "1.5.0",
            "_model_name": "ProgressStyleModel",
            "_view_count": null,
            "_view_module": "@jupyter-widgets/base",
            "_view_module_version": "1.2.0",
            "_view_name": "StyleView",
            "bar_color": null,
            "description_width": ""
          }
        },
        "926babd2318a46e48eb87bfab4634e1e": {
          "model_module": "@jupyter-widgets/controls",
          "model_module_version": "1.5.0",
          "model_name": "HTMLModel",
          "state": {
            "_dom_classes": [],
            "_model_module": "@jupyter-widgets/controls",
            "_model_module_version": "1.5.0",
            "_model_name": "HTMLModel",
            "_view_count": null,
            "_view_module": "@jupyter-widgets/controls",
            "_view_module_version": "1.5.0",
            "_view_name": "HTMLView",
            "description": "",
            "description_tooltip": null,
            "layout": "IPY_MODEL_1400f13540154d468abe515c05dd064f",
            "placeholder": "​",
            "style": "IPY_MODEL_7ceccf7587724fb783bcbf40243193b6",
            "value": "Downloading: 100%"
          }
        },
        "92a8b9d3e839403fb3f13e5021aab9c5": {
          "model_module": "@jupyter-widgets/base",
          "model_module_version": "1.2.0",
          "model_name": "LayoutModel",
          "state": {
            "_model_module": "@jupyter-widgets/base",
            "_model_module_version": "1.2.0",
            "_model_name": "LayoutModel",
            "_view_count": null,
            "_view_module": "@jupyter-widgets/base",
            "_view_module_version": "1.2.0",
            "_view_name": "LayoutView",
            "align_content": null,
            "align_items": null,
            "align_self": null,
            "border": null,
            "bottom": null,
            "display": null,
            "flex": null,
            "flex_flow": null,
            "grid_area": null,
            "grid_auto_columns": null,
            "grid_auto_flow": null,
            "grid_auto_rows": null,
            "grid_column": null,
            "grid_gap": null,
            "grid_row": null,
            "grid_template_areas": null,
            "grid_template_columns": null,
            "grid_template_rows": null,
            "height": null,
            "justify_content": null,
            "justify_items": null,
            "left": null,
            "margin": null,
            "max_height": null,
            "max_width": null,
            "min_height": null,
            "min_width": null,
            "object_fit": null,
            "object_position": null,
            "order": null,
            "overflow": null,
            "overflow_x": null,
            "overflow_y": null,
            "padding": null,
            "right": null,
            "top": null,
            "visibility": null,
            "width": null
          }
        },
        "9ab0555695e64c68822f8b8492c61958": {
          "model_module": "@jupyter-widgets/controls",
          "model_module_version": "1.5.0",
          "model_name": "HTMLModel",
          "state": {
            "_dom_classes": [],
            "_model_module": "@jupyter-widgets/controls",
            "_model_module_version": "1.5.0",
            "_model_name": "HTMLModel",
            "_view_count": null,
            "_view_module": "@jupyter-widgets/controls",
            "_view_module_version": "1.5.0",
            "_view_name": "HTMLView",
            "description": "",
            "description_tooltip": null,
            "layout": "IPY_MODEL_7d118254b46d465e9f97e15dbf2b5747",
            "placeholder": "​",
            "style": "IPY_MODEL_0eadceafab724ef58fb89d11b4fe6fd4",
            "value": " 440M/440M [00:11&lt;00:00, 38.3MB/s]"
          }
        },
        "a763605e697c4823ba322e3af6a6d361": {
          "model_module": "@jupyter-widgets/controls",
          "model_module_version": "1.5.0",
          "model_name": "FloatProgressModel",
          "state": {
            "_dom_classes": [],
            "_model_module": "@jupyter-widgets/controls",
            "_model_module_version": "1.5.0",
            "_model_name": "FloatProgressModel",
            "_view_count": null,
            "_view_module": "@jupyter-widgets/controls",
            "_view_module_version": "1.5.0",
            "_view_name": "ProgressView",
            "bar_style": "success",
            "description": "",
            "description_tooltip": null,
            "layout": "IPY_MODEL_2643de55032a4ea189142eead302e2d8",
            "max": 440473133,
            "min": 0,
            "orientation": "horizontal",
            "style": "IPY_MODEL_db65d3254e0941caab7e0ab1e1019708",
            "value": 440473133
          }
        },
        "b02407d9d7ff445998d82447ceece7c0": {
          "model_module": "@jupyter-widgets/controls",
          "model_module_version": "1.5.0",
          "model_name": "DescriptionStyleModel",
          "state": {
            "_model_module": "@jupyter-widgets/controls",
            "_model_module_version": "1.5.0",
            "_model_name": "DescriptionStyleModel",
            "_view_count": null,
            "_view_module": "@jupyter-widgets/base",
            "_view_module_version": "1.2.0",
            "_view_name": "StyleView",
            "description_width": ""
          }
        },
        "be727c2de21e4794a8afb350111c3f16": {
          "model_module": "@jupyter-widgets/base",
          "model_module_version": "1.2.0",
          "model_name": "LayoutModel",
          "state": {
            "_model_module": "@jupyter-widgets/base",
            "_model_module_version": "1.2.0",
            "_model_name": "LayoutModel",
            "_view_count": null,
            "_view_module": "@jupyter-widgets/base",
            "_view_module_version": "1.2.0",
            "_view_name": "LayoutView",
            "align_content": null,
            "align_items": null,
            "align_self": null,
            "border": null,
            "bottom": null,
            "display": null,
            "flex": null,
            "flex_flow": null,
            "grid_area": null,
            "grid_auto_columns": null,
            "grid_auto_flow": null,
            "grid_auto_rows": null,
            "grid_column": null,
            "grid_gap": null,
            "grid_row": null,
            "grid_template_areas": null,
            "grid_template_columns": null,
            "grid_template_rows": null,
            "height": null,
            "justify_content": null,
            "justify_items": null,
            "left": null,
            "margin": null,
            "max_height": null,
            "max_width": null,
            "min_height": null,
            "min_width": null,
            "object_fit": null,
            "object_position": null,
            "order": null,
            "overflow": null,
            "overflow_x": null,
            "overflow_y": null,
            "padding": null,
            "right": null,
            "top": null,
            "visibility": null,
            "width": null
          }
        },
        "c1ddfa8ddee04df288c7784dc4b0316e": {
          "model_module": "@jupyter-widgets/controls",
          "model_module_version": "1.5.0",
          "model_name": "FloatProgressModel",
          "state": {
            "_dom_classes": [],
            "_model_module": "@jupyter-widgets/controls",
            "_model_module_version": "1.5.0",
            "_model_name": "FloatProgressModel",
            "_view_count": null,
            "_view_module": "@jupyter-widgets/controls",
            "_view_module_version": "1.5.0",
            "_view_name": "ProgressView",
            "bar_style": "success",
            "description": "",
            "description_tooltip": null,
            "layout": "IPY_MODEL_0fa69d6fb3a24abe8d262419cb8d9317",
            "max": 231508,
            "min": 0,
            "orientation": "horizontal",
            "style": "IPY_MODEL_382601e0b996417789c4f9281c03fb9c",
            "value": 231508
          }
        },
        "d00b7b7d018f47059a2bd69ae2a44b21": {
          "model_module": "@jupyter-widgets/base",
          "model_module_version": "1.2.0",
          "model_name": "LayoutModel",
          "state": {
            "_model_module": "@jupyter-widgets/base",
            "_model_module_version": "1.2.0",
            "_model_name": "LayoutModel",
            "_view_count": null,
            "_view_module": "@jupyter-widgets/base",
            "_view_module_version": "1.2.0",
            "_view_name": "LayoutView",
            "align_content": null,
            "align_items": null,
            "align_self": null,
            "border": null,
            "bottom": null,
            "display": null,
            "flex": null,
            "flex_flow": null,
            "grid_area": null,
            "grid_auto_columns": null,
            "grid_auto_flow": null,
            "grid_auto_rows": null,
            "grid_column": null,
            "grid_gap": null,
            "grid_row": null,
            "grid_template_areas": null,
            "grid_template_columns": null,
            "grid_template_rows": null,
            "height": null,
            "justify_content": null,
            "justify_items": null,
            "left": null,
            "margin": null,
            "max_height": null,
            "max_width": null,
            "min_height": null,
            "min_width": null,
            "object_fit": null,
            "object_position": null,
            "order": null,
            "overflow": null,
            "overflow_x": null,
            "overflow_y": null,
            "padding": null,
            "right": null,
            "top": null,
            "visibility": null,
            "width": null
          }
        },
        "db65d3254e0941caab7e0ab1e1019708": {
          "model_module": "@jupyter-widgets/controls",
          "model_module_version": "1.5.0",
          "model_name": "ProgressStyleModel",
          "state": {
            "_model_module": "@jupyter-widgets/controls",
            "_model_module_version": "1.5.0",
            "_model_name": "ProgressStyleModel",
            "_view_count": null,
            "_view_module": "@jupyter-widgets/base",
            "_view_module_version": "1.2.0",
            "_view_name": "StyleView",
            "bar_color": null,
            "description_width": ""
          }
        },
        "e3159b4e958f4b6e8b563e0c1e90738d": {
          "model_module": "@jupyter-widgets/base",
          "model_module_version": "1.2.0",
          "model_name": "LayoutModel",
          "state": {
            "_model_module": "@jupyter-widgets/base",
            "_model_module_version": "1.2.0",
            "_model_name": "LayoutModel",
            "_view_count": null,
            "_view_module": "@jupyter-widgets/base",
            "_view_module_version": "1.2.0",
            "_view_name": "LayoutView",
            "align_content": null,
            "align_items": null,
            "align_self": null,
            "border": null,
            "bottom": null,
            "display": null,
            "flex": null,
            "flex_flow": null,
            "grid_area": null,
            "grid_auto_columns": null,
            "grid_auto_flow": null,
            "grid_auto_rows": null,
            "grid_column": null,
            "grid_gap": null,
            "grid_row": null,
            "grid_template_areas": null,
            "grid_template_columns": null,
            "grid_template_rows": null,
            "height": null,
            "justify_content": null,
            "justify_items": null,
            "left": null,
            "margin": null,
            "max_height": null,
            "max_width": null,
            "min_height": null,
            "min_width": null,
            "object_fit": null,
            "object_position": null,
            "order": null,
            "overflow": null,
            "overflow_x": null,
            "overflow_y": null,
            "padding": null,
            "right": null,
            "top": null,
            "visibility": null,
            "width": null
          }
        },
        "e53a82039b95407b931838134eb44f45": {
          "model_module": "@jupyter-widgets/controls",
          "model_module_version": "1.5.0",
          "model_name": "HBoxModel",
          "state": {
            "_dom_classes": [],
            "_model_module": "@jupyter-widgets/controls",
            "_model_module_version": "1.5.0",
            "_model_name": "HBoxModel",
            "_view_count": null,
            "_view_module": "@jupyter-widgets/controls",
            "_view_module_version": "1.5.0",
            "_view_name": "HBoxView",
            "box_style": "",
            "children": [
              "IPY_MODEL_f7e5a08c412548e8b0f755889ba60706",
              "IPY_MODEL_c1ddfa8ddee04df288c7784dc4b0316e",
              "IPY_MODEL_eab466e62bef4f1cafcbef7bfc8d0fac"
            ],
            "layout": "IPY_MODEL_d00b7b7d018f47059a2bd69ae2a44b21"
          }
        },
        "e9b7efc16f4a4dea99a4b9f3a2e01d2b": {
          "model_module": "@jupyter-widgets/controls",
          "model_module_version": "1.5.0",
          "model_name": "HTMLModel",
          "state": {
            "_dom_classes": [],
            "_model_module": "@jupyter-widgets/controls",
            "_model_module_version": "1.5.0",
            "_model_name": "HTMLModel",
            "_view_count": null,
            "_view_module": "@jupyter-widgets/controls",
            "_view_module_version": "1.5.0",
            "_view_name": "HTMLView",
            "description": "",
            "description_tooltip": null,
            "layout": "IPY_MODEL_1082e11eb2eb4f8ebe54c3ffffbe45d6",
            "placeholder": "​",
            "style": "IPY_MODEL_2b4a9b21c16243a9b81b1a743524b160",
            "value": " 28.0/28.0 [00:00&lt;00:00, 907B/s]"
          }
        },
        "eab466e62bef4f1cafcbef7bfc8d0fac": {
          "model_module": "@jupyter-widgets/controls",
          "model_module_version": "1.5.0",
          "model_name": "HTMLModel",
          "state": {
            "_dom_classes": [],
            "_model_module": "@jupyter-widgets/controls",
            "_model_module_version": "1.5.0",
            "_model_name": "HTMLModel",
            "_view_count": null,
            "_view_module": "@jupyter-widgets/controls",
            "_view_module_version": "1.5.0",
            "_view_name": "HTMLView",
            "description": "",
            "description_tooltip": null,
            "layout": "IPY_MODEL_04d6e027dd4a4f38868f926fbbbfd9f1",
            "placeholder": "​",
            "style": "IPY_MODEL_368c65e0614f42b1801155080e9496ff",
            "value": " 232k/232k [00:00&lt;00:00, 1.14MB/s]"
          }
        },
        "f0920231ec4f43cfa4c1d998ca5e6ed8": {
          "model_module": "@jupyter-widgets/controls",
          "model_module_version": "1.5.0",
          "model_name": "HTMLModel",
          "state": {
            "_dom_classes": [],
            "_model_module": "@jupyter-widgets/controls",
            "_model_module_version": "1.5.0",
            "_model_name": "HTMLModel",
            "_view_count": null,
            "_view_module": "@jupyter-widgets/controls",
            "_view_module_version": "1.5.0",
            "_view_name": "HTMLView",
            "description": "",
            "description_tooltip": null,
            "layout": "IPY_MODEL_50454484de234ca58a958c8aa78d7232",
            "placeholder": "​",
            "style": "IPY_MODEL_3a654f53323a44d384e6727e5488143f",
            "value": "Downloading: 100%"
          }
        },
        "f7b8032da25943468fa9b7a174abdd38": {
          "model_module": "@jupyter-widgets/controls",
          "model_module_version": "1.5.0",
          "model_name": "HBoxModel",
          "state": {
            "_dom_classes": [],
            "_model_module": "@jupyter-widgets/controls",
            "_model_module_version": "1.5.0",
            "_model_name": "HBoxModel",
            "_view_count": null,
            "_view_module": "@jupyter-widgets/controls",
            "_view_module_version": "1.5.0",
            "_view_name": "HBoxView",
            "box_style": "",
            "children": [
              "IPY_MODEL_926babd2318a46e48eb87bfab4634e1e",
              "IPY_MODEL_4d45056a99cf437c9d36b336998d1247",
              "IPY_MODEL_469d4aa85c404e5e87aa0a449bc19ea7"
            ],
            "layout": "IPY_MODEL_e3159b4e958f4b6e8b563e0c1e90738d"
          }
        },
        "f7e5a08c412548e8b0f755889ba60706": {
          "model_module": "@jupyter-widgets/controls",
          "model_module_version": "1.5.0",
          "model_name": "HTMLModel",
          "state": {
            "_dom_classes": [],
            "_model_module": "@jupyter-widgets/controls",
            "_model_module_version": "1.5.0",
            "_model_name": "HTMLModel",
            "_view_count": null,
            "_view_module": "@jupyter-widgets/controls",
            "_view_module_version": "1.5.0",
            "_view_name": "HTMLView",
            "description": "",
            "description_tooltip": null,
            "layout": "IPY_MODEL_92a8b9d3e839403fb3f13e5021aab9c5",
            "placeholder": "​",
            "style": "IPY_MODEL_8443a01ec3114140a3ca9587796db9a8",
            "value": "Downloading: 100%"
          }
        }
      }
    }
  },
  "nbformat": 4,
  "nbformat_minor": 0
}